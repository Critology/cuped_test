{
 "cells": [
  {
   "cell_type": "code",
   "execution_count": 2,
   "metadata": {},
   "outputs": [],
   "source": [
    "import pandas as pd\n",
    "import matplotlib.pyplot as plt\n",
    "import numpy as np\n",
    "import seaborn as sns\n",
    "import datetime\n",
    "import random\n",
    "from statsmodels.stats.power import tt_ind_solve_power\n",
    "\n",
    "def date_converter(x):\n",
    "    return datetime.datetime.strptime(x,'%Y-%m-%d')"
   ]
  },
  {
   "attachments": {},
   "cell_type": "markdown",
   "metadata": {},
   "source": [
    "**CUPED** это подход по повышению чувствительности этой метрики путем добавления информации о том как вела себя метрика на предпериоде.\n",
    "\n",
    "От успеха данной инициативы зависит то, как быстро мы сможем проверять продуктовые гипотезы."
   ]
  },
  {
   "attachments": {},
   "cell_type": "markdown",
   "metadata": {},
   "source": [
    "#### План\n",
    "\n",
    "- Расчитать какое MDE мы можем отловить используя стандартный подход\n",
    "- Рассчитать CUPED метрику на основе данных за периода в 30 дней перед предполагаемым периодом сбора основной выборки и сравнить как изменится MDE по сравнению со стандартным подходом\n",
    "- Проверить насколько данный подход подвержен сезональности. Как меняется MDE, если применять данный подход в разные периоды\n",
    "- Оптимизировать подход варьируя количество дней до теста для расчёта CUPED метрики. \n",
    "\n",
    "\n",
    "\n"
   ]
  },
  {
   "attachments": {},
   "cell_type": "markdown",
   "metadata": {},
   "source": [
    "#### Описание данныx\n",
    "\n",
    "event_date - дата \n",
    "\n",
    "user_id - идентификатор пользователя\n",
    "\n",
    "user_segment - тип продукта\n",
    "\n",
    "region - регион\n",
    "\n",
    "category - категория авито\n",
    "\n",
    "revenue_amount - сумма покупок\n"
   ]
  },
  {
   "cell_type": "code",
   "execution_count": 3,
   "metadata": {},
   "outputs": [],
   "source": [
    "df = pd.read_csv('user_amount_var_reduction.csv')\n",
    "df['event_date']=df.event_date.apply(date_converter)"
   ]
  },
  {
   "cell_type": "code",
   "execution_count": 25,
   "metadata": {},
   "outputs": [
    {
     "data": {
      "text/html": [
       "<div>\n",
       "<style scoped>\n",
       "    .dataframe tbody tr th:only-of-type {\n",
       "        vertical-align: middle;\n",
       "    }\n",
       "\n",
       "    .dataframe tbody tr th {\n",
       "        vertical-align: top;\n",
       "    }\n",
       "\n",
       "    .dataframe thead th {\n",
       "        text-align: right;\n",
       "    }\n",
       "</style>\n",
       "<table border=\"1\" class=\"dataframe\">\n",
       "  <thead>\n",
       "    <tr style=\"text-align: right;\">\n",
       "      <th></th>\n",
       "      <th>event_date</th>\n",
       "      <th>user_id</th>\n",
       "      <th>user_segment</th>\n",
       "      <th>category</th>\n",
       "      <th>region</th>\n",
       "      <th>revenue_amount</th>\n",
       "    </tr>\n",
       "  </thead>\n",
       "  <tbody>\n",
       "    <tr>\n",
       "      <th>0</th>\n",
       "      <td>2019-06-18</td>\n",
       "      <td>4129257975403696</td>\n",
       "      <td>4.626945e+18</td>\n",
       "      <td>7.204754e+18</td>\n",
       "      <td>2.201389e+18</td>\n",
       "      <td>139.0</td>\n",
       "    </tr>\n",
       "    <tr>\n",
       "      <th>1</th>\n",
       "      <td>2019-06-18</td>\n",
       "      <td>7225254357470025</td>\n",
       "      <td>4.626945e+18</td>\n",
       "      <td>5.751401e+16</td>\n",
       "      <td>3.048518e+18</td>\n",
       "      <td>193.0</td>\n",
       "    </tr>\n",
       "    <tr>\n",
       "      <th>2</th>\n",
       "      <td>2019-06-18</td>\n",
       "      <td>8912846500600569</td>\n",
       "      <td>4.626945e+18</td>\n",
       "      <td>5.983324e+18</td>\n",
       "      <td>3.048518e+18</td>\n",
       "      <td>160.0</td>\n",
       "    </tr>\n",
       "    <tr>\n",
       "      <th>3</th>\n",
       "      <td>2019-06-18</td>\n",
       "      <td>20910801279823046</td>\n",
       "      <td>4.626945e+18</td>\n",
       "      <td>6.847326e+18</td>\n",
       "      <td>7.762196e+18</td>\n",
       "      <td>209.0</td>\n",
       "    </tr>\n",
       "    <tr>\n",
       "      <th>4</th>\n",
       "      <td>2019-06-18</td>\n",
       "      <td>34873300821657220</td>\n",
       "      <td>2.376074e+18</td>\n",
       "      <td>3.187770e+18</td>\n",
       "      <td>3.855811e+18</td>\n",
       "      <td>160.0</td>\n",
       "    </tr>\n",
       "  </tbody>\n",
       "</table>\n",
       "</div>"
      ],
      "text/plain": [
       "  event_date            user_id  user_segment      category        region  \\\n",
       "0 2019-06-18   4129257975403696  4.626945e+18  7.204754e+18  2.201389e+18   \n",
       "1 2019-06-18   7225254357470025  4.626945e+18  5.751401e+16  3.048518e+18   \n",
       "2 2019-06-18   8912846500600569  4.626945e+18  5.983324e+18  3.048518e+18   \n",
       "3 2019-06-18  20910801279823046  4.626945e+18  6.847326e+18  7.762196e+18   \n",
       "4 2019-06-18  34873300821657220  2.376074e+18  3.187770e+18  3.855811e+18   \n",
       "\n",
       "   revenue_amount  \n",
       "0           139.0  \n",
       "1           193.0  \n",
       "2           160.0  \n",
       "3           209.0  \n",
       "4           160.0  "
      ]
     },
     "execution_count": 25,
     "metadata": {},
     "output_type": "execute_result"
    }
   ],
   "source": [
    "df.head()"
   ]
  },
  {
   "cell_type": "code",
   "execution_count": 26,
   "metadata": {},
   "outputs": [
    {
     "data": {
      "text/plain": [
       "(4096928, 6)"
      ]
     },
     "execution_count": 26,
     "metadata": {},
     "output_type": "execute_result"
    }
   ],
   "source": [
    "df.shape"
   ]
  },
  {
   "cell_type": "code",
   "execution_count": 5,
   "metadata": {},
   "outputs": [
    {
     "data": {
      "text/plain": [
       "event_date        0\n",
       "user_id           0\n",
       "user_segment      1\n",
       "category          1\n",
       "region            1\n",
       "revenue_amount    1\n",
       "dtype: int64"
      ]
     },
     "execution_count": 5,
     "metadata": {},
     "output_type": "execute_result"
    }
   ],
   "source": [
    "df.isna().sum()"
   ]
  },
  {
   "cell_type": "code",
   "execution_count": 6,
   "metadata": {},
   "outputs": [],
   "source": [
    "df.dropna(inplace=True)"
   ]
  },
  {
   "cell_type": "code",
   "execution_count": 7,
   "metadata": {},
   "outputs": [
    {
     "data": {
      "text/html": [
       "<div>\n",
       "<style scoped>\n",
       "    .dataframe tbody tr th:only-of-type {\n",
       "        vertical-align: middle;\n",
       "    }\n",
       "\n",
       "    .dataframe tbody tr th {\n",
       "        vertical-align: top;\n",
       "    }\n",
       "\n",
       "    .dataframe thead th {\n",
       "        text-align: right;\n",
       "    }\n",
       "</style>\n",
       "<table border=\"1\" class=\"dataframe\">\n",
       "  <thead>\n",
       "    <tr style=\"text-align: right;\">\n",
       "      <th></th>\n",
       "      <th>user_id</th>\n",
       "      <th>user_segment</th>\n",
       "      <th>category</th>\n",
       "      <th>region</th>\n",
       "      <th>revenue_amount</th>\n",
       "    </tr>\n",
       "  </thead>\n",
       "  <tbody>\n",
       "    <tr>\n",
       "      <th>count</th>\n",
       "      <td>4.096928e+06</td>\n",
       "      <td>4.096928e+06</td>\n",
       "      <td>4.096928e+06</td>\n",
       "      <td>4.096928e+06</td>\n",
       "      <td>4.096928e+06</td>\n",
       "    </tr>\n",
       "    <tr>\n",
       "      <th>mean</th>\n",
       "      <td>4.597365e+18</td>\n",
       "      <td>3.140363e+18</td>\n",
       "      <td>4.086952e+18</td>\n",
       "      <td>4.116913e+18</td>\n",
       "      <td>4.098162e+02</td>\n",
       "    </tr>\n",
       "    <tr>\n",
       "      <th>std</th>\n",
       "      <td>2.662496e+18</td>\n",
       "      <td>1.337426e+18</td>\n",
       "      <td>2.736763e+18</td>\n",
       "      <td>2.474388e+18</td>\n",
       "      <td>9.388359e+02</td>\n",
       "    </tr>\n",
       "    <tr>\n",
       "      <th>min</th>\n",
       "      <td>7.022212e+11</td>\n",
       "      <td>8.534311e+17</td>\n",
       "      <td>5.751401e+16</td>\n",
       "      <td>6.847539e+16</td>\n",
       "      <td>4.000000e+00</td>\n",
       "    </tr>\n",
       "    <tr>\n",
       "      <th>25%</th>\n",
       "      <td>2.283168e+18</td>\n",
       "      <td>2.376074e+18</td>\n",
       "      <td>1.472231e+18</td>\n",
       "      <td>1.481836e+18</td>\n",
       "      <td>9.000000e+01</td>\n",
       "    </tr>\n",
       "    <tr>\n",
       "      <th>50%</th>\n",
       "      <td>4.602560e+18</td>\n",
       "      <td>2.376074e+18</td>\n",
       "      <td>4.394253e+18</td>\n",
       "      <td>3.855811e+18</td>\n",
       "      <td>1.760000e+02</td>\n",
       "    </tr>\n",
       "    <tr>\n",
       "      <th>75%</th>\n",
       "      <td>6.896026e+18</td>\n",
       "      <td>4.626945e+18</td>\n",
       "      <td>6.742558e+18</td>\n",
       "      <td>5.780544e+18</td>\n",
       "      <td>4.200000e+02</td>\n",
       "    </tr>\n",
       "    <tr>\n",
       "      <th>max</th>\n",
       "      <td>9.223368e+18</td>\n",
       "      <td>4.626945e+18</td>\n",
       "      <td>7.948270e+18</td>\n",
       "      <td>9.198009e+18</td>\n",
       "      <td>2.245870e+05</td>\n",
       "    </tr>\n",
       "  </tbody>\n",
       "</table>\n",
       "</div>"
      ],
      "text/plain": [
       "            user_id  user_segment      category        region  revenue_amount\n",
       "count  4.096928e+06  4.096928e+06  4.096928e+06  4.096928e+06    4.096928e+06\n",
       "mean   4.597365e+18  3.140363e+18  4.086952e+18  4.116913e+18    4.098162e+02\n",
       "std    2.662496e+18  1.337426e+18  2.736763e+18  2.474388e+18    9.388359e+02\n",
       "min    7.022212e+11  8.534311e+17  5.751401e+16  6.847539e+16    4.000000e+00\n",
       "25%    2.283168e+18  2.376074e+18  1.472231e+18  1.481836e+18    9.000000e+01\n",
       "50%    4.602560e+18  2.376074e+18  4.394253e+18  3.855811e+18    1.760000e+02\n",
       "75%    6.896026e+18  4.626945e+18  6.742558e+18  5.780544e+18    4.200000e+02\n",
       "max    9.223368e+18  4.626945e+18  7.948270e+18  9.198009e+18    2.245870e+05"
      ]
     },
     "execution_count": 7,
     "metadata": {},
     "output_type": "execute_result"
    }
   ],
   "source": [
    "df.describe()"
   ]
  },
  {
   "attachments": {},
   "cell_type": "markdown",
   "metadata": {},
   "source": [
    "#### Метрика суммы продаж за день под конец обваливается :/\n"
   ]
  },
  {
   "cell_type": "code",
   "execution_count": 8,
   "metadata": {},
   "outputs": [
    {
     "data": {
      "image/png": "[encoded data removed]",
      "text/plain": [
       "<Figure size 900x600 with 1 Axes>"
      ]
     },
     "metadata": {},
     "output_type": "display_data"
    }
   ],
   "source": [
    "df_by_date = df.groupby('event_date').sum()\n",
    "\n",
    "plt.figure(figsize=(9, 6))\n",
    "_ = plt.plot(df.groupby('event_date').sum().index, df.groupby('event_date').sum().revenue_amount)"
   ]
  },
  {
   "attachments": {},
   "cell_type": "markdown",
   "metadata": {},
   "source": [
    "#### Датасет по 100 дням"
   ]
  },
  {
   "cell_type": "code",
   "execution_count": 9,
   "metadata": {},
   "outputs": [
    {
     "data": {
      "text/plain": [
       "Timedelta('100 days 00:00:00')"
      ]
     },
     "execution_count": 9,
     "metadata": {},
     "output_type": "execute_result"
    }
   ],
   "source": [
    "df.event_date.max() - df.event_date.min()"
   ]
  },
  {
   "cell_type": "code",
   "execution_count": 10,
   "metadata": {},
   "outputs": [
    {
     "data": {
      "text/plain": [
       "Timestamp('2019-06-18 00:00:00')"
      ]
     },
     "execution_count": 10,
     "metadata": {},
     "output_type": "execute_result"
    }
   ],
   "source": [
    "df.event_date.min()"
   ]
  },
  {
   "cell_type": "code",
   "execution_count": 11,
   "metadata": {},
   "outputs": [],
   "source": [
    "def choose_date(df, start_date, delta, share): \n",
    "    tmp = df[(df.event_date>=start_date)&(df.event_date<=start_date+datetime.timedelta(days=delta))]\n",
    "    tmp=tmp.groupby(['user_id']).sum().reset_index()\n",
    "    x = tmp[(tmp.user_id)%100<=int(100*share)]\n",
    "    return x"
   ]
  },
  {
   "attachments": {},
   "cell_type": "markdown",
   "metadata": {},
   "source": [
    "### Описание функции для разбиения датасета и формирования CUPED метрики:\n",
    "- Выбираем с датасета предпериод и формируем группы пользователей для теста, выбираем период после \"тритмента\"\n",
    "- Для выбранных пользоваетелей находим значения метрики после тритмента, если значения нет то проставляем 0, как если бы хотели считать ARPU\n",
    "- Далее считаем CUPED метрику по выбранному предпериоду \n",
    "- Формируем новый датасет и возвращаем его "
   ]
  },
  {
   "cell_type": "code",
   "execution_count": 13,
   "metadata": {},
   "outputs": [],
   "source": [
    "def make_df_for_cuped(df, pred_duration, post_duration, share, for_sesoanality):\n",
    "    pred = choose_date(df, datetime.datetime(2019, 6, 18, 0, 0) + datetime.timedelta(days=for_sesoanality), pred_duration, share)\n",
    "    post = choose_date(df, datetime.datetime(2019, 6, 18, 0, 0) + datetime.timedelta(days=pred_duration) + datetime.timedelta(days=for_sesoanality), post_duration, share)\n",
    "\n",
    "    df_for_cuped = pd.merge(pred[['user_id', 'revenue_amount']], post[['user_id', 'revenue_amount']],  how='left', on='user_id')\n",
    "    df_for_cuped.rename(columns={'revenue_amount_y': 'revenue_amount',\n",
    "                                 'revenue_amount_x':'revenue_amount_pred'}, inplace=True)\n",
    "    df_for_cuped.fillna(0, inplace=True)\n",
    "\n",
    "    theta = np.cov(df_for_cuped['revenue_amount'], df_for_cuped['revenue_amount_pred'], ddof=1)[0,1] / np.var(df_for_cuped['revenue_amount_pred'], ddof=1)\n",
    "    df_for_cuped['cuped'] = df_for_cuped['revenue_amount'] - theta * (df_for_cuped['revenue_amount_pred'] - df_for_cuped['revenue_amount_pred'].mean())\n",
    "    \n",
    "    return df_for_cuped"
   ]
  },
  {
   "attachments": {},
   "cell_type": "markdown",
   "metadata": {},
   "source": [
    "### Периодичность"
   ]
  },
  {
   "attachments": {},
   "cell_type": "markdown",
   "metadata": {},
   "source": [
    "#### Здесь берем длиетльность предпериода 30 дней и длительность периода после 30 дней и сравниваю получаемое mde для обычной метрики и CUPED метрики"
   ]
  },
  {
   "cell_type": "code",
   "execution_count": 18,
   "metadata": {},
   "outputs": [
    {
     "name": "stdout",
     "output_type": "stream",
     "text": [
      "For cuped pred_deuration 30 days and week_shift 0 mde in %: 4.13%\n",
      "For reg pred_deuration 30  days and week_shift 0 mde in %: 7.59%\n",
      "regular_mde / cuped_mde 1.84 \n",
      "\n",
      "For cuped pred_deuration 30 days and week_shift 1 mde in %: 4.19%\n",
      "For reg pred_deuration 30  days and week_shift 1 mde in %: 7.56%\n",
      "regular_mde / cuped_mde 1.81 \n",
      "\n",
      "For cuped pred_deuration 30 days and week_shift 2 mde in %: 4.31%\n",
      "For reg pred_deuration 30  days and week_shift 2 mde in %: 7.52%\n",
      "regular_mde / cuped_mde 1.75 \n",
      "\n",
      "For cuped pred_deuration 30 days and week_shift 3 mde in %: 4.31%\n",
      "For reg pred_deuration 30  days and week_shift 3 mde in %: 7.66%\n",
      "regular_mde / cuped_mde 1.78 \n",
      "\n",
      "For cuped pred_deuration 30 days and week_shift 4 mde in %: 4.19%\n",
      "For reg pred_deuration 30  days and week_shift 4 mde in %: 7.69%\n",
      "regular_mde / cuped_mde 1.83 \n",
      "\n",
      "For cuped pred_deuration 30 days and week_shift 5 mde in %: 4.18%\n",
      "For reg pred_deuration 30  days and week_shift 5 mde in %: 7.71%\n",
      "regular_mde / cuped_mde 1.84 \n",
      "\n"
     ]
    }
   ],
   "source": [
    "for weeks_shift in range(0, 6):\n",
    "\n",
    "    x1 = make_df_for_cuped(df, 30, 30, 0.5, weeks_shift)\n",
    "\n",
    "    mean_cuped = x1.cuped.mean()\n",
    "    std_cuped = x1.cuped.std()\n",
    "\n",
    "    mean_reg = x1.revenue_amount.mean()\n",
    "    std_reg = x1.revenue_amount.std()\n",
    "    \n",
    "    alpha = 0.01\n",
    "    power = 0.8\n",
    "\n",
    "    effect_size_cuped = tt_ind_solve_power(nobs1=x1.shape[0], alpha=alpha, power=power, ratio=1.0, alternative='two-sided')\n",
    "    result_effect_cuped = effect_size_cuped * std_cuped / mean_cuped\n",
    "\n",
    "    effect_size_reg = tt_ind_solve_power(nobs1=x1.shape[0], alpha=alpha, power=power, ratio=1.0, alternative='two-sided')\n",
    "    result_effect_reg = effect_size_reg * std_reg / mean_reg\n",
    "\n",
    "\n",
    "    print(f'For cuped pred_deuration 30 days and week_shift {weeks_shift} mde in %: {result_effect_cuped:.2%}')\n",
    "\n",
    "    print(f'For reg pred_deuration 30  days and week_shift {weeks_shift} mde in %: {result_effect_reg:.2%}')\n",
    "    print(f'regular_mde / cuped_mde {(result_effect_reg / result_effect_cuped):.2f} \\n')"
   ]
  },
  {
   "attachments": {},
   "cell_type": "markdown",
   "metadata": {},
   "source": [
    "#### Видим, что не особо влияет период, который мы выбираем для cuped метрики, как собственно и для обычной метрики, удается снизить mde в $\\approx$ 1.8 раз используя CUPED подход"
   ]
  },
  {
   "attachments": {},
   "cell_type": "markdown",
   "metadata": {},
   "source": [
    "### Длительность пердпериода"
   ]
  },
  {
   "attachments": {},
   "cell_type": "markdown",
   "metadata": {},
   "source": [
    "#### Здесь берем длиетльность предпериода 30 дней и варьируем длительность периода после и сравниваю получаемое mde для обычной метрики и CUPED метрики"
   ]
  },
  {
   "cell_type": "code",
   "execution_count": 22,
   "metadata": {},
   "outputs": [
    {
     "name": "stdout",
     "output_type": "stream",
     "text": [
      "For cuped test and pred_deuration 10 days mde : 5.31%\n",
      "For reg test and pred_deuration 10 days mde in %: 8.25%\n",
      "regular_mde / cuped_mde 1.55 \n",
      "\n",
      "For cuped test and pred_deuration 20 days mde : 4.10%\n",
      "For reg test and pred_deuration 20 days mde in %: 7.54%\n",
      "regular_mde / cuped_mde 1.84 \n",
      "\n",
      "For cuped test and pred_deuration 30 days mde : 4.13%\n",
      "For reg test and pred_deuration 30 days mde in %: 7.59%\n",
      "regular_mde / cuped_mde 1.84 \n",
      "\n",
      "For cuped test and pred_deuration 40 days mde : 3.92%\n",
      "For reg test and pred_deuration 40 days mde in %: 7.67%\n",
      "regular_mde / cuped_mde 1.96 \n",
      "\n",
      "For cuped test and pred_deuration 50 days mde : 3.67%\n",
      "For reg test and pred_deuration 50 days mde in %: 7.80%\n",
      "regular_mde / cuped_mde 2.13 \n",
      "\n",
      "For cuped test and pred_deuration 60 days mde : 2.87%\n",
      "For reg test and pred_deuration 60 days mde in %: 7.23%\n",
      "regular_mde / cuped_mde 2.52 \n",
      "\n",
      "For cuped test and pred_deuration 70 days mde : 2.87%\n",
      "For reg test and pred_deuration 70 days mde in %: 6.95%\n",
      "regular_mde / cuped_mde 2.42 \n",
      "\n"
     ]
    }
   ],
   "source": [
    "for pred_deuration in range(1, 8):\n",
    "\n",
    "    x1 = make_df_for_cuped(df, pred_deuration * 10, 30, 0.5, 0)\n",
    "\n",
    "    mean_cuped = x1.cuped.mean()\n",
    "    std_cuped = x1.cuped.std()\n",
    "\n",
    "    mean_reg = x1.revenue_amount.mean()\n",
    "    std_reg = x1.revenue_amount.std()\n",
    "    \n",
    "    alpha = 0.01\n",
    "    power = 0.8\n",
    "\n",
    "    effect_size_cuped = tt_ind_solve_power(nobs1=x1.shape[0], alpha=alpha, power=power, ratio=1.0, alternative='two-sided')\n",
    "    result_effect_cuped = effect_size_cuped * std_cuped / mean_cuped\n",
    "\n",
    "    effect_size_reg = tt_ind_solve_power(nobs1=x1.shape[0], alpha=alpha, power=power, ratio=1.0, alternative='two-sided')\n",
    "    result_effect_reg = effect_size_reg * std_reg / mean_reg\n",
    "\n",
    "\n",
    "    print(f'For cuped test and pred_deuration {pred_deuration * 10} days mde : {result_effect_cuped:.2%}')\n",
    "\n",
    "    print(f'For reg test and pred_deuration {pred_deuration * 10} days mde in %: {result_effect_reg:.2%}')\n",
    "    print(f'regular_mde / cuped_mde {(result_effect_reg / result_effect_cuped):.2f} \\n')\n"
   ]
  },
  {
   "attachments": {},
   "cell_type": "markdown",
   "metadata": {},
   "source": [
    "#### Видим что mde уменьшается при увеличении предпериода, собственно минимальное mde для предпериода в 60 дней, удается снизить mde в $\\approx$ 2.5 раза используя CUPED подход"
   ]
  }
 ],
 "metadata": {
  "kernelspec": {
   "display_name": "Python 3",
   "language": "python",
   "name": "python3"
  },
  "language_info": {
   "codemirror_mode": {
    "name": "ipython",
    "version": 3
   },
   "file_extension": ".py",
   "mimetype": "text/x-python",
   "name": "python",
   "nbconvert_exporter": "python",
   "pygments_lexer": "ipython3",
   "version": "3.10.7"
  }
 },
 "nbformat": 4,
 "nbformat_minor": 4
}
